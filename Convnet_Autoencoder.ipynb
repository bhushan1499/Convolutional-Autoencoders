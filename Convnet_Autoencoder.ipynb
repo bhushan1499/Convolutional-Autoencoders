{
  "nbformat": 4,
  "nbformat_minor": 0,
  "metadata": {
    "colab": {
      "name": "Convnet_Autoencoder.ipynb",
      "provenance": []
    },
    "kernelspec": {
      "name": "python3",
      "display_name": "Python 3"
    },
    "accelerator": "GPU"
  },
  "cells": [
    {
      "cell_type": "code",
      "metadata": {
        "id": "3uENvT9pBu8a",
        "colab_type": "code",
        "colab": {}
      },
      "source": [
        "import matplotlib.pyplot as plt\n",
        "import numpy as np\n",
        "import pandas as pd\n"
      ],
      "execution_count": 0,
      "outputs": []
    },
    {
      "cell_type": "code",
      "metadata": {
        "id": "kVs1ytiiB7y8",
        "colab_type": "code",
        "colab": {}
      },
      "source": [
        "%tensorflow_version 2.x"
      ],
      "execution_count": 0,
      "outputs": []
    },
    {
      "cell_type": "code",
      "metadata": {
        "id": "QWQBr1bcCHfI",
        "colab_type": "code",
        "colab": {}
      },
      "source": [
        "import tensorflow as tf"
      ],
      "execution_count": 0,
      "outputs": []
    },
    {
      "cell_type": "code",
      "metadata": {
        "id": "znM7VkyYCLI9",
        "colab_type": "code",
        "colab": {}
      },
      "source": [
        "from tensorflow.keras.datasets import mnist"
      ],
      "execution_count": 0,
      "outputs": []
    },
    {
      "cell_type": "code",
      "metadata": {
        "id": "3VQhZPGFCUn-",
        "colab_type": "code",
        "colab": {}
      },
      "source": [
        "(X_train,y_train),(X_test,y_test) = mnist.load_data()"
      ],
      "execution_count": 0,
      "outputs": []
    },
    {
      "cell_type": "code",
      "metadata": {
        "id": "ckZpiXTXC6Da",
        "colab_type": "code",
        "colab": {}
      },
      "source": [
        "X_train = X_train/255\n",
        "X_test = X_test/255"
      ],
      "execution_count": 0,
      "outputs": []
    },
    {
      "cell_type": "code",
      "metadata": {
        "id": "Tzo19aqcNSLr",
        "colab_type": "code",
        "colab": {}
      },
      "source": [
        "X_train = X_train.reshape(60000,28,28,1)\n",
        "X_test = X_test.reshape(10000,28,28,1)"
      ],
      "execution_count": 0,
      "outputs": []
    },
    {
      "cell_type": "code",
      "metadata": {
        "id": "1r2srxxmCfk1",
        "colab_type": "code",
        "colab": {}
      },
      "source": [
        "from tensorflow.keras.models import Sequential\n",
        "from tensorflow.keras.layers import Dense,Reshape,Flatten,Conv2D,MaxPool2D, Conv2DTranspose,BatchNormalization"
      ],
      "execution_count": 0,
      "outputs": []
    },
    {
      "cell_type": "code",
      "metadata": {
        "id": "1qiQV-gCC0Pi",
        "colab_type": "code",
        "colab": {}
      },
      "source": [
        "encoder = Sequential()\n",
        "encoder.add(Conv2D(32,(3,3),activation='relu',input_shape=[28,28,1]))\n",
        "encoder.add(MaxPool2D((2,2)))\n",
        "encoder.add(Conv2D(64,(3,3),activation='relu'))\n",
        "encoder.add(MaxPool2D((2,2)))\n",
        "encoder.add(Conv2D(64,(3,3),activation='relu'))\n",
        "\n",
        "encoder.add(Flatten(input_shape=[3,3,64]))\n",
        "encoder.add(Dense(49,activation='relu'))\n",
        "encoder.add(Dense(36,activation='relu'))"
      ],
      "execution_count": 0,
      "outputs": []
    },
    {
      "cell_type": "code",
      "metadata": {
        "id": "lkh07YadLsjl",
        "colab_type": "code",
        "outputId": "a8cb0e62-6dcd-4275-f2b4-9132bb791bad",
        "colab": {
          "base_uri": "https://localhost:8080/",
          "height": 425
        }
      },
      "source": [
        "encoder.summary()"
      ],
      "execution_count": 0,
      "outputs": [
        {
          "output_type": "stream",
          "text": [
            "Model: \"sequential_26\"\n",
            "_________________________________________________________________\n",
            "Layer (type)                 Output Shape              Param #   \n",
            "=================================================================\n",
            "conv2d_43 (Conv2D)           (None, 26, 26, 32)        320       \n",
            "_________________________________________________________________\n",
            "max_pooling2d_28 (MaxPooling (None, 13, 13, 32)        0         \n",
            "_________________________________________________________________\n",
            "conv2d_44 (Conv2D)           (None, 11, 11, 64)        18496     \n",
            "_________________________________________________________________\n",
            "max_pooling2d_29 (MaxPooling (None, 5, 5, 64)          0         \n",
            "_________________________________________________________________\n",
            "conv2d_45 (Conv2D)           (None, 3, 3, 64)          36928     \n",
            "_________________________________________________________________\n",
            "flatten_6 (Flatten)          (None, 576)               0         \n",
            "_________________________________________________________________\n",
            "dense_16 (Dense)             (None, 49)                28273     \n",
            "_________________________________________________________________\n",
            "dense_17 (Dense)             (None, 36)                1800      \n",
            "=================================================================\n",
            "Total params: 85,817\n",
            "Trainable params: 85,817\n",
            "Non-trainable params: 0\n",
            "_________________________________________________________________\n"
          ],
          "name": "stdout"
        }
      ]
    },
    {
      "cell_type": "code",
      "metadata": {
        "id": "7umoGJEfDvWi",
        "colab_type": "code",
        "colab": {}
      },
      "source": [
        "decoder = Sequential()\n",
        "decoder.add(Dense(49,activation='relu',input_shape=[36]))\n",
        "decoder.add(Reshape([7,7,1]))\n",
        "decoder.add(Conv2DTranspose(64,(3,3),strides=2,activation='relu',padding='same'))\n",
        "decoder.add(BatchNormalization())\n",
        "decoder.add(Conv2DTranspose(64,(3,3),strides=2,activation='relu',padding='same'))\n",
        "decoder.add(BatchNormalization())\n",
        "decoder.add(Conv2DTranspose(32,(3,3),activation='relu',padding='same'))\n",
        "decoder.add(Conv2D(1,(3,3),padding='same',activation='sigmoid'))\n",
        "decoder.add(Reshape([28,28]))"
      ],
      "execution_count": 0,
      "outputs": []
    },
    {
      "cell_type": "code",
      "metadata": {
        "id": "o04y5zEqL1f0",
        "colab_type": "code",
        "outputId": "925b1411-c97c-4f38-daf0-68ead3f5b13c",
        "colab": {
          "base_uri": "https://localhost:8080/",
          "height": 459
        }
      },
      "source": [
        "decoder.summary()"
      ],
      "execution_count": 0,
      "outputs": [
        {
          "output_type": "stream",
          "text": [
            "Model: \"sequential_27\"\n",
            "_________________________________________________________________\n",
            "Layer (type)                 Output Shape              Param #   \n",
            "=================================================================\n",
            "dense_18 (Dense)             (None, 49)                1813      \n",
            "_________________________________________________________________\n",
            "reshape_7 (Reshape)          (None, 7, 7, 1)           0         \n",
            "_________________________________________________________________\n",
            "conv2d_transpose_10 (Conv2DT (None, 14, 14, 64)        640       \n",
            "_________________________________________________________________\n",
            "batch_normalization_7 (Batch (None, 14, 14, 64)        256       \n",
            "_________________________________________________________________\n",
            "conv2d_transpose_11 (Conv2DT (None, 28, 28, 64)        36928     \n",
            "_________________________________________________________________\n",
            "batch_normalization_8 (Batch (None, 28, 28, 64)        256       \n",
            "_________________________________________________________________\n",
            "conv2d_transpose_12 (Conv2DT (None, 28, 28, 32)        18464     \n",
            "_________________________________________________________________\n",
            "conv2d_46 (Conv2D)           (None, 28, 28, 1)         289       \n",
            "_________________________________________________________________\n",
            "reshape_8 (Reshape)          (None, 28, 28)            0         \n",
            "=================================================================\n",
            "Total params: 58,646\n",
            "Trainable params: 58,390\n",
            "Non-trainable params: 256\n",
            "_________________________________________________________________\n"
          ],
          "name": "stdout"
        }
      ]
    },
    {
      "cell_type": "code",
      "metadata": {
        "id": "Dta2H49eKwlb",
        "colab_type": "code",
        "colab": {}
      },
      "source": [
        "autoencoders = Sequential([encoder,decoder])\n",
        "autoencoders.compile(loss = 'binary_crossentropy',optimizer='adam',metrics=['accuracy'])"
      ],
      "execution_count": 0,
      "outputs": []
    },
    {
      "cell_type": "code",
      "metadata": {
        "id": "zw0VfBrALXbc",
        "colab_type": "code",
        "outputId": "8ad5e764-a347-434e-bca0-245f563d81fb",
        "colab": {
          "base_uri": "https://localhost:8080/",
          "height": 221
        }
      },
      "source": [
        "autoencoders.summary()"
      ],
      "execution_count": 0,
      "outputs": [
        {
          "output_type": "stream",
          "text": [
            "Model: \"sequential_28\"\n",
            "_________________________________________________________________\n",
            "Layer (type)                 Output Shape              Param #   \n",
            "=================================================================\n",
            "sequential_26 (Sequential)   (None, 36)                85817     \n",
            "_________________________________________________________________\n",
            "sequential_27 (Sequential)   (None, 28, 28)            58646     \n",
            "=================================================================\n",
            "Total params: 144,463\n",
            "Trainable params: 144,207\n",
            "Non-trainable params: 256\n",
            "_________________________________________________________________\n"
          ],
          "name": "stdout"
        }
      ]
    },
    {
      "cell_type": "code",
      "metadata": {
        "id": "oXZlHVktLh4O",
        "colab_type": "code",
        "outputId": "7347cab5-3ce7-4ac9-99e0-4cfca4c43571",
        "colab": {
          "base_uri": "https://localhost:8080/",
          "height": 221
        }
      },
      "source": [
        "autoencoders.fit(X_train,X_train,epochs=5,validation_data=(X_test,X_test))"
      ],
      "execution_count": 0,
      "outputs": [
        {
          "output_type": "stream",
          "text": [
            "Train on 60000 samples, validate on 10000 samples\n",
            "Epoch 1/5\n",
            "60000/60000 [==============================] - 13s 217us/sample - loss: 0.1493 - accuracy: 0.8031 - val_loss: 0.1217 - val_accuracy: 0.8078\n",
            "Epoch 2/5\n",
            "60000/60000 [==============================] - 12s 204us/sample - loss: 0.1159 - accuracy: 0.8090 - val_loss: 0.1100 - val_accuracy: 0.8099\n",
            "Epoch 3/5\n",
            "60000/60000 [==============================] - 12s 202us/sample - loss: 0.1090 - accuracy: 0.8102 - val_loss: 0.1051 - val_accuracy: 0.8105\n",
            "Epoch 4/5\n",
            "60000/60000 [==============================] - 12s 203us/sample - loss: 0.1057 - accuracy: 0.8109 - val_loss: 0.1042 - val_accuracy: 0.8105\n",
            "Epoch 5/5\n",
            "60000/60000 [==============================] - 12s 202us/sample - loss: 0.1035 - accuracy: 0.8112 - val_loss: 0.1041 - val_accuracy: 0.8106\n"
          ],
          "name": "stdout"
        },
        {
          "output_type": "execute_result",
          "data": {
            "text/plain": [
              "<tensorflow.python.keras.callbacks.History at 0x7fd8703fc0b8>"
            ]
          },
          "metadata": {
            "tags": []
          },
          "execution_count": 91
        }
      ]
    },
    {
      "cell_type": "code",
      "metadata": {
        "id": "HecNsNjVMSYf",
        "colab_type": "code",
        "colab": {}
      },
      "source": [
        "passed_image = autoencoders.predict(X_test[:10])"
      ],
      "execution_count": 0,
      "outputs": []
    },
    {
      "cell_type": "code",
      "metadata": {
        "id": "bXS4hW2fOOKX",
        "colab_type": "code",
        "outputId": "4bd105ec-cf91-41e8-c218-a4cc2eb96f81",
        "colab": {
          "base_uri": "https://localhost:8080/",
          "height": 299
        }
      },
      "source": [
        "print(\"Generated image after passing through the autoencoder\")\n",
        "plt.imshow(passed_image[0])"
      ],
      "execution_count": 0,
      "outputs": [
        {
          "output_type": "stream",
          "text": [
            "Generated image after passing through the autoencoder\n"
          ],
          "name": "stdout"
        },
        {
          "output_type": "execute_result",
          "data": {
            "text/plain": [
              "<matplotlib.image.AxesImage at 0x7fd8577fa978>"
            ]
          },
          "metadata": {
            "tags": []
          },
          "execution_count": 97
        },
        {
          "output_type": "display_data",
          "data": {
            "image/png": "[encoded data removed]",
            "text/plain": [
              "<Figure size 432x288 with 1 Axes>"
            ]
          },
          "metadata": {
            "tags": []
          }
        }
      ]
    },
    {
      "cell_type": "code",
      "metadata": {
        "id": "unUY8qlMOS70",
        "colab_type": "code",
        "outputId": "71844f32-69a4-470f-c9dc-93df92fc1e7c",
        "colab": {
          "base_uri": "https://localhost:8080/",
          "height": 299
        }
      },
      "source": [
        "print(\"Orignal Image \")\n",
        "plt.imshow(X_test[0].reshape(28,28))"
      ],
      "execution_count": 0,
      "outputs": [
        {
          "output_type": "stream",
          "text": [
            "Orignal Image \n"
          ],
          "name": "stdout"
        },
        {
          "output_type": "execute_result",
          "data": {
            "text/plain": [
              "<matplotlib.image.AxesImage at 0x7fd8577d3e10>"
            ]
          },
          "metadata": {
            "tags": []
          },
          "execution_count": 98
        },
        {
          "output_type": "display_data",
          "data": {
            "image/png": "[encoded data removed]",
            "text/plain": [
              "<Figure size 432x288 with 1 Axes>"
            ]
          },
          "metadata": {
            "tags": []
          }
        }
      ]
    },
    {
      "cell_type": "code",
      "metadata": {
        "id": "Tl9TmPijOWo6",
        "colab_type": "code",
        "colab": {}
      },
      "source": [
        ""
      ],
      "execution_count": 0,
      "outputs": []
    }
  ]
}